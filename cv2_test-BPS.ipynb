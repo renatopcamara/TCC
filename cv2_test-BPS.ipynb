{
 "cells": [
  {
   "cell_type": "code",
   "execution_count": 9,
   "metadata": {},
   "outputs": [
    {
     "data": {
      "text/plain": [
       "'3.4.3'"
      ]
     },
     "execution_count": 9,
     "metadata": {},
     "output_type": "execute_result"
    }
   ],
   "source": [
    "import cv2\n",
    "\n",
    "#cap = cv2.VideoCapture('C:\\\\Users\\\\renatopcamara\\\\Google Drive\\\\ICA\\\\CV2\\\\ica10.mp4')\n",
    "cap = cv2.VideoCapture('C:\\\\Users\\\\renato\\\\Google Drive\\\\Classroom\\TCC\\\\person_detection\\\\bps_corte.mp4')\n",
    "\n",
    "#cap.set( cv2.CAP_PROP_FPS, 20) # altera o FPD da camera\n",
    "fps = cap.get(cv2.CAP_PROP_FPS)\n",
    "count = cap.get(cv2.CAP_PROP_FRAME_COUNT) # quantidade de frames\n",
    "cv2.__version__"
   ]
  },
  {
   "cell_type": "code",
   "execution_count": 10,
   "metadata": {},
   "outputs": [
    {
     "name": "stdout",
     "output_type": "stream",
     "text": [
      "FPS: 12.0 FRAMES: 3906.0\n"
     ]
    }
   ],
   "source": [
    "print(\"FPS:\", fps, \"FRAMES:\", count)"
   ]
  },
  {
   "cell_type": "code",
   "execution_count": 11,
   "metadata": {},
   "outputs": [
    {
     "name": "stdout",
     "output_type": "stream",
     "text": [
      "FPS: 12.0 FRAMES: 3906.0\n"
     ]
    }
   ],
   "source": [
    "print(\"FPS:\", fps, \"FRAMES:\", count)"
   ]
  },
  {
   "cell_type": "code",
   "execution_count": 12,
   "metadata": {},
   "outputs": [
    {
     "name": "stdout",
     "output_type": "stream",
     "text": [
      "fps: 12 height: 720 width: 1280\n"
     ]
    }
   ],
   "source": [
    "width  = int(cap.get(3))\n",
    "height = int(cap.get(4))\n",
    "fps = int(cap.get(5))\n",
    "print(\"fps:\",fps,\"height:\",height,\"width:\",width)"
   ]
  },
  {
   "cell_type": "code",
   "execution_count": 13,
   "metadata": {
    "collapsed": true
   },
   "outputs": [],
   "source": [
    "inicio = 10\n",
    "cap.set(cv2.CAP_PROP_POS_FRAMES, 2850)\n",
    "ret, image_np = cap.read()\n",
    "while ret:\n",
    "    cv2.imshow('object_detection', cv2.resize(image_np, (800,600)))\n",
    "    #cv2.imshow('object_detection', cv2.resize(image_np, (0,0), fx=0.5, fy=0.5)) # reduz pela metade   \n",
    "    a=cap.get(cv2.CAP_PROP_POS_FRAMES)\n",
    "\n",
    "    if cv2.waitKey(fps) & 0xFF == ord('q'):\n",
    "        cv2.destroyAllWindows()\n",
    "        break\n",
    "    ret, image_np = cap.read()\n",
    "    #cap.set(1,a+10)\n",
    "        # When everything done, release the capture\n",
    "cap.release()\n",
    "cv2.destroyAllWindows()"
   ]
  },
  {
   "cell_type": "code",
   "execution_count": 34,
   "metadata": {},
   "outputs": [
    {
     "name": "stdout",
     "output_type": "stream",
     "text": [
      "fps: 12 height: 720 width: 1280\n"
     ]
    }
   ],
   "source": [
    "import cv2\n",
    "\n",
    "filename1 = \"C:\\\\Users\\\\renato\\\\Google Drive\\\\Classroom\\TCC\\\\person_detection\\\\bps_corte.mp4\"\n",
    "fileout = \"C:\\\\Users\\\\renato\\\\Google Drive\\\\Classroom\\TCC\\\\person_detection\\\\bps_corte_full.mp4\"\n",
    "\n",
    "cap1 = cv2.VideoCapture(filename1)\n",
    "\n",
    "width  = int(cap1.get(3))\n",
    "height = int(cap1.get(4))\n",
    "fps = int(cap1.get(5))\n",
    "print(\"fps:\",fps,\"height:\",height,\"width:\",width)\n"
   ]
  },
  {
   "cell_type": "code",
   "execution_count": 35,
   "metadata": {},
   "outputs": [
    {
     "name": "stdout",
     "output_type": "stream",
     "text": [
      "Fim do primeiro bloco\n",
      "Fim do segundo bloco\n",
      "Fim do terceiro bloco\n"
     ]
    }
   ],
   "source": [
    "out = cv2.VideoWriter(fileout, cv2.VideoWriter_fourcc(*'XVID'), fps, (width,height))\n",
    "\n",
    "success = True\n",
    "count = 0\n",
    "corte = 1042 -30\n",
    "cap1.set(cv2.CAP_PROP_POS_FRAMES, corte)\n",
    "success1,image1 = cap1.read()\n",
    "while count <= 100:\n",
    "    #print(\"count\",count)\n",
    "    cv2.imshow(\"duplicado\", image1)\n",
    "    cv2.cvtColor(image1, cv2.COLOR_BGR2RGB) # converter do padrao BGR para RGB\n",
    "    out.write(image1)\n",
    "    success1,image1 = cap1.read()       \n",
    "    if cv2.waitKey(fps) & 0xFF == ord('q'):\n",
    "        cv2.destroyAllWindows()\n",
    "        break\n",
    "    count = count + 1\n",
    "print (\"Fim do primeiro bloco\")        \n",
    "\n",
    "corte = 2474 -40\n",
    "cap1.set(cv2.CAP_PROP_POS_FRAMES, corte)\n",
    "success1,image1 = cap1.read()\n",
    "count=0\n",
    "while count <= 120:\n",
    "    #print(\"count\",count)\n",
    "    cv2.imshow(\"duplicado\", image1)\n",
    "    cv2.cvtColor(image1, cv2.COLOR_BGR2RGB) # converter do padrao BGR para RGB\n",
    "    out.write(image1)\n",
    "    success1,image1 = cap1.read()       \n",
    "    if cv2.waitKey(fps) & 0xFF == ord('q'):\n",
    "        cv2.destroyAllWindows()\n",
    "        break\n",
    "    count = count + 1\n",
    "print (\"Fim do segundo bloco\")     \n",
    "\n",
    "corte = 2866 -50\n",
    "cap1.set(cv2.CAP_PROP_POS_FRAMES, corte)\n",
    "success1,image1 = cap1.read()\n",
    "count=0\n",
    "while count <= 100:\n",
    "    #print(\"count\",count)\n",
    "    cv2.imshow(\"duplicado\", image1)\n",
    "    cv2.cvtColor(image1, cv2.COLOR_BGR2RGB) # converter do padrao BGR para RGB\n",
    "    out.write(image1)\n",
    "    success1,image1 = cap1.read()       \n",
    "    if cv2.waitKey(fps) & 0xFF == ord('q'):\n",
    "        cv2.destroyAllWindows()\n",
    "        break\n",
    "    count = count + 1\n",
    "print (\"Fim do terceiro bloco\")     \n",
    "\n",
    "cap1.release()\n",
    "out.release()\n",
    "cv2.destroyAllWindows()  "
   ]
  },
  {
   "cell_type": "code",
   "execution_count": null,
   "metadata": {
    "collapsed": true
   },
   "outputs": [],
   "source": []
  }
 ],
 "metadata": {
  "kernelspec": {
   "display_name": "Python 3",
   "language": "python",
   "name": "python3"
  },
  "language_info": {
   "codemirror_mode": {
    "name": "ipython",
    "version": 3
   },
   "file_extension": ".py",
   "mimetype": "text/x-python",
   "name": "python",
   "nbconvert_exporter": "python",
   "pygments_lexer": "ipython3",
   "version": "3.6.3"
  }
 },
 "nbformat": 4,
 "nbformat_minor": 2
}
